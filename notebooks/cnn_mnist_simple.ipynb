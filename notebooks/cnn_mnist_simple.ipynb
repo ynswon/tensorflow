version https://git-lfs.github.com/spec/v1
oid sha256:ee1c7208a6dc4ad00f21c75a2667c0f56effee5b389c5d10ef201028e670f9f1
size 147771
