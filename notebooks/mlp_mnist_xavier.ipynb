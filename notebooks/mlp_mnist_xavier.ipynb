version https://git-lfs.github.com/spec/v1
oid sha256:6e204ee05a04fb3431ce25df8b000fb84b5987424efd3121e6bd4560e954cea1
size 12692
