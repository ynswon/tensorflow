version https://git-lfs.github.com/spec/v1
oid sha256:35489910673a040a86cc78bebae4fb77fda9d243715a835a2f3d660bdfbd9def
size 268054
