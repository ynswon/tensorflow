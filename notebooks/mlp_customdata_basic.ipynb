version https://git-lfs.github.com/spec/v1
oid sha256:e5f44ae41a2628b5b8a9cf3584f996bd9994c5a12f2cb61cb1802fb755c4697b
size 8814
