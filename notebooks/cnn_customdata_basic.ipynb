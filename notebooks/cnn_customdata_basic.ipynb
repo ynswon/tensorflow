version https://git-lfs.github.com/spec/v1
oid sha256:2f233a924522663797c42a036d1688043fef90664a9e63e53b2ac380840c230c
size 10336
