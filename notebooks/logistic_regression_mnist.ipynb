version https://git-lfs.github.com/spec/v1
oid sha256:f6eaefb6e067c17dd558ec50538ea22bc57a163ae2e8a46caca8b68a2c6f2e08
size 5669
