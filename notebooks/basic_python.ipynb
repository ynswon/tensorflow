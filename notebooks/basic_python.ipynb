version https://git-lfs.github.com/spec/v1
oid sha256:f0408f971ed3b1f34eb6cdd4583ae25651d124c617337fef8557213781b13220
size 86591
