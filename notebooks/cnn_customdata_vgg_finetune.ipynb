version https://git-lfs.github.com/spec/v1
oid sha256:071659c0b71296d4fee466f2d0a01d9e15de9d4c49210510b014e5bb05756ec1
size 14991
