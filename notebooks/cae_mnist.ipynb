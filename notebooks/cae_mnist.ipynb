version https://git-lfs.github.com/spec/v1
oid sha256:6c5daebe2bd32d392f2d5bdf34b5e4aadce0cff4164166bef1afbc8e6cc75119
size 199389
